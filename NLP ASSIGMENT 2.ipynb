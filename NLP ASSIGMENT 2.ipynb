{
 "cells": [
  {
   "cell_type": "code",
   "execution_count": 1,
   "id": "c68f21ce",
   "metadata": {},
   "outputs": [
    {
     "name": "stdout",
     "output_type": "stream",
     "text": [
      "Failed to fetch data from https://twitter.com/search?q=Reliance%20Industries%20Ltd.&src=typed_query&f=live: 400 Client Error: Bad Request for url: https://twitter.com/search?q=Reliance%20Industries%20Ltd.&src=typed_query&f=live\n",
      "Failed to fetch data from https://www.moneycontrol.com/news/tags/reliance%20industries%20ltd..html: 403 Client Error: Forbidden for url: https://www.moneycontrol.com/news/tags/reliance%20industries%20ltd..html\n"
     ]
    }
   ],
   "source": [
    "import requests\n",
    "from bs4 import BeautifulSoup\n",
    "from urllib.parse import quote\n",
    "\n",
    "# Function to scrape data from a given URL\n",
    "def scrape_data(url):\n",
    "    try:\n",
    "        # Send a GET request to the URL with a proper user-agent header\n",
    "        headers = {'User-Agent': 'Mozilla/5.0'}\n",
    "        response = requests.get(url, headers=headers)\n",
    "        response.raise_for_status()  # Raise an exception for bad status codes\n",
    "        soup = BeautifulSoup(response.content, 'html.parser')\n",
    "        text = soup.get_text()\n",
    "        return text\n",
    "    except Exception as e:\n",
    "        print(f\"Failed to fetch data from {url}: {e}\")\n",
    "        return None\n",
    "\n",
    "# Function to fetch latest news for a company\n",
    "def fetch_latest_news(company_name):\n",
    "    news_data = []\n",
    "    # Encode company name for URL\n",
    "    encoded_company_name = quote(company_name)\n",
    "    urls = [\n",
    "        f\"https://twitter.com/search?q={encoded_company_name}&src=typed_query&f=live\",  # Twitter\n",
    "        f\"https://www.moneycontrol.com/news/tags/{encoded_company_name.lower().replace(' ', '-')}.html\",  # Moneycontrol\n",
    "        # Add more URLs for other sources\n",
    "    ]\n",
    "    \n",
    "    for url in urls:\n",
    "        scraped_text = scrape_data(url)\n",
    "        if scraped_text:\n",
    "            news_data.append({\n",
    "                \"source\": url,\n",
    "                \"text\": scraped_text\n",
    "            })\n",
    "    \n",
    "    return news_data\n",
    "\n",
    "# Fetch latest news for Reliance Industries Ltd. (RIL)\n",
    "company_name = \"Reliance Industries Ltd.\"\n",
    "latest_news = fetch_latest_news(company_name)\n",
    "\n",
    "# Print the list of dictionaries containing scraped data\n",
    "for news_item in latest_news:\n",
    "    print(news_item)\n"
   ]
  },
  {
   "cell_type": "code",
   "execution_count": null,
   "id": "73ebe36f",
   "metadata": {},
   "outputs": [],
   "source": []
  }
 ],
 "metadata": {
  "kernelspec": {
   "display_name": "Python 3 (ipykernel)",
   "language": "python",
   "name": "python3"
  },
  "language_info": {
   "codemirror_mode": {
    "name": "ipython",
    "version": 3
   },
   "file_extension": ".py",
   "mimetype": "text/x-python",
   "name": "python",
   "nbconvert_exporter": "python",
   "pygments_lexer": "ipython3",
   "version": "3.10.9"
  }
 },
 "nbformat": 4,
 "nbformat_minor": 5
}
